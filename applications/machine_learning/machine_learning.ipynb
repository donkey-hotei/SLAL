{
 "metadata": {
  "name": "machine_learning"
 },
 "nbformat": 3,
 "nbformat_minor": 0,
 "worksheets": [
  {
   "cells": [
    {
     "cell_type": "heading",
     "level": 1,
     "metadata": {},
     "source": [
      "Orthogonality and Machine Learning "
     ]
    },
    {
     "cell_type": "markdown",
     "metadata": {},
     "source": [
      "In this notebook you will see how to use a rudimentary machine learning algorithm to learn to diagnose breast cancer from some features. <br>\n",
      "The core idea here is the use of <i>gradient descent</i>, which is an iterative method of finding the \"best\" hypothesis. Gradient descent is useful for finding a point that nearly minimizeds a nonlinear function. In each iteration, the non-linear function is approximated by a linear one.\n",
      "<br>\n",
      "<img src=\"cancer_images/92_6125.gif\"></img>"
     ]
    },
    {
     "cell_type": "code",
     "collapsed": false,
     "input": [],
     "language": "python",
     "metadata": {},
     "outputs": []
    }
   ],
   "metadata": {}
  }
 ]
}